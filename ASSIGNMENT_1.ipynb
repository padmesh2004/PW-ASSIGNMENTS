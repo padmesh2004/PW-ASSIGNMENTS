{
 "cells": [
  {
   "cell_type": "markdown",
   "metadata": {},
   "source": [
    "#ASSIGNMENT 1"
   ]
  },
  {
   "cell_type": "markdown",
   "metadata": {},
   "source": [
    "Q.1 EXPLAIN THE KEY FEATURES OF PYTHON THAT MAKES IT A POPULAR CHOICE FOR PROGRAMMING\n",
    "\n",
    "A. Simplicity and Readability\n",
    "B. Interpreted Language\n",
    "C. Dynamically Typed\n",
    "D. Extensive Standard Library\n",
    "E. Cross-Platform Compatibility\n",
    "F. Large Ecosystem of Libraries and Frameworks\n",
    "G. Extensive Community Support\n",
    "H. It is a Versatile Language"
   ]
  },
  {
   "cell_type": "markdown",
   "metadata": {},
   "source": [
    "Q.2 Describe the role of predefined keywords in Python and provide examples of how they are used in a\n",
    "programming?\n",
    "\n",
    "Predefined keywords, also known as reserved words, in Python are special words that have \n",
    "specific meanings and functions within the language. These keywords are an integral part of \n",
    "the Python syntax and cannot be used as identifiers"
   ]
  },
  {
   "cell_type": "code",
   "execution_count": 1,
   "metadata": {},
   "outputs": [
    {
     "name": "stdout",
     "output_type": "stream",
     "text": [
      "Hello, Padmesh!\n"
     ]
    }
   ],
   "source": [
    "def greet(name):\n",
    " return f\"Hello, {name}!\"\n",
    "print(greet(\"Padmesh\"))"
   ]
  },
  {
   "cell_type": "markdown",
   "metadata": {},
   "source": [
    "Q.3 Compare and contrast mutable and immutable objects in Python with examples?\n",
    "\n",
    "Mutuable Objects: Mutable objects are objects whose state can be changed or modified \n",
    "after they are created.\n",
    "ex: Lists, Dictionaries, Sets\n",
    "Immutable Objects: Are the oppoite of Mutuable Objects\n",
    "ex: Tuples, Strings"
   ]
  },
  {
   "cell_type": "code",
   "execution_count": 2,
   "metadata": {},
   "outputs": [
    {
     "name": "stdout",
     "output_type": "stream",
     "text": [
      "[1, 2, 3, 4, 5]\n"
     ]
    },
    {
     "ename": "AttributeError",
     "evalue": "'tuple' object has no attribute 'append'",
     "output_type": "error",
     "traceback": [
      "\u001b[1;31m---------------------------------------------------------------------------\u001b[0m",
      "\u001b[1;31mAttributeError\u001b[0m                            Traceback (most recent call last)",
      "Cell \u001b[1;32mIn[2], line 7\u001b[0m\n\u001b[0;32m      5\u001b[0m \u001b[38;5;66;03m#IMMUTABLE OBJECTS\u001b[39;00m\n\u001b[0;32m      6\u001b[0m my_tuple \u001b[38;5;241m=\u001b[39m (\u001b[38;5;241m1\u001b[39m,\u001b[38;5;241m2\u001b[39m,\u001b[38;5;241m3\u001b[39m,\u001b[38;5;241m4\u001b[39m)\n\u001b[1;32m----> 7\u001b[0m \u001b[43mmy_tuple\u001b[49m\u001b[38;5;241;43m.\u001b[39;49m\u001b[43mappend\u001b[49m(\u001b[38;5;241m5\u001b[39m)\n\u001b[0;32m      8\u001b[0m \u001b[38;5;28mprint\u001b[39m(my_tuple)\n",
      "\u001b[1;31mAttributeError\u001b[0m: 'tuple' object has no attribute 'append'"
     ]
    }
   ],
   "source": [
    "#MUTUABLE OBJECTS\n",
    "my_list = [1,2,3,4]\n",
    "my_list.append(5)\n",
    "print(my_list)\n",
    "#IMMUTABLE OBJECTS\n",
    "my_tuple = (1,2,3,4)\n",
    "my_tuple.append(5)\n",
    "print(my_tuple)"
   ]
  },
  {
   "cell_type": "markdown",
   "metadata": {},
   "source": [
    "Q.4 Discuss the different types of operators in Python and provide examples of how they are used?\n",
    "\n",
    "1. Arithmetic Operators: For Basic Mathemitical Operations\n",
    "2. Comparison (Relational) Operators: Compare two values and return a Boolean result (True or False)\n",
    "3. Logical Operators: Combine conditional statements and return a Boolean result.\n",
    "4. Assignment Operators: Assign values to variables. These operators can also perform operations and assign \n",
    "the result simultaneously\n",
    "5. Bitwise Operators: Perform operations on binary representations of integers.\n",
    "6. Membership Operators: Test whether a value is a member of a sequence (e.g., string, list, tuple)\n",
    "7. Identity Operators: Compare the memory location of two objects (whether they are the same object) \n",
    "8. Ternary (Conditional) Operator: Conditionally assign a value based on a test.\n",
    "9. Unary Operator: Operate on a single operand."
   ]
  },
  {
   "cell_type": "code",
   "execution_count": 8,
   "metadata": {},
   "outputs": [
    {
     "name": "stdout",
     "output_type": "stream",
     "text": [
      "13\n",
      "7\n",
      "30\n",
      "3.3333333333333335\n",
      "1\n",
      "1000\n",
      "3\n",
      "\n",
      "False\n",
      "True\n",
      "False\n",
      "True\n",
      "False\n",
      "True\n",
      "\n",
      "False\n",
      "True\n",
      "False\n",
      "\n",
      "\n",
      "0\n",
      "14\n",
      "14\n",
      "-11\n",
      "40\n",
      "2\n",
      "\n",
      "True\n",
      "True\n",
      "True\n",
      "True\n",
      "\n",
      "False\n",
      "True\n",
      "True\n",
      "\n",
      "Adult\n",
      "\n",
      "\n",
      "-5\n",
      "False\n"
     ]
    }
   ],
   "source": [
    "#ARITHMETIC OPERATORS\n",
    "a = 10\n",
    "b = 3\n",
    "print(a + b) # Addition: 13\n",
    "print(a - b) # Subtraction: 7\n",
    "print(a * b) # Multiplication: 30\n",
    "print(a / b) # Division: 3.333...\n",
    "print(a % b) # Modulus: 1 (remainder)\n",
    "print(a ** b) # Exponentiation: 1000 (10^3)\n",
    "print(a // b) # Floor division: 3 (integer division)\n",
    "print()\n",
    "\n",
    "#COMPARISON OPEARTORS\n",
    "x = 5\n",
    "y = 10\n",
    "print(x == y) # Equal to: False\n",
    "print(x != y) # Not equal to: True\n",
    "print(x > y) # Greater than: False\n",
    "print(x < y) # Less than: True\n",
    "print(x >= y) # Greater than or equal to: False\n",
    "print(x <= y) # Less than or equal to: True\n",
    "print()\n",
    "\n",
    "#LOGICAL OPERATORS\n",
    "a = True\n",
    "b = False\n",
    "print(a and b) # Logical AND: False (both must be True)\n",
    "print(a or b) # Logical OR: True (one must be True)\n",
    "print(not a) # Logical NOT: False (reverses the Boolean value)\n",
    "print()\n",
    "\n",
    "#Assignment Operators\n",
    "c = 5 # Simple assignment\n",
    "c += 3 # c = c + 3 -> 8\n",
    "c -= 2 # c = c - 2 -> 6\n",
    "c *= 4 # c = c * 4 -> 24\n",
    "c /= 6 # c = c / 6 -> 4.0\n",
    "c %= 3 # c = c % 3 -> 1.0\n",
    "c **= 2 # c = c ** 2 -> 1.0\n",
    "c //= 1.5 # c = c // 1.5 -> 0.0\n",
    "print()\n",
    "\n",
    "#Bitwise Operators\n",
    "p = 10 # Binary: 1010\n",
    "q = 4 # Binary: 0100\n",
    "print(p & q) # Bitwise AND: 0 (0000)\n",
    "print(p | q) # Bitwise OR: 14 (1110)\n",
    "print(p ^ q) # Bitwise XOR: 14 (1110)\n",
    "print(~p) # Bitwise NOT: -11 (inverts all bits)\n",
    "print(p << 2) # Left shift: 40 (101000)\n",
    "print(p >> 2) # Right shift: 2 (10)\n",
    "print()\n",
    "\n",
    "#Membership Operators\n",
    "nums = [1, 2, 3, 4]\n",
    "s = \"hello\"\n",
    "print(3 in nums) # True (3 is in the list)\n",
    "print(5 not in nums) # True (5 is not in the list)\n",
    "print('h' in s) # True ('h' is in the string \"hello\")\n",
    "print('x' not in s) # True ('x' is not in the string \"hello\")\n",
    "print()\n",
    "\n",
    "#Identity Operators\n",
    "x = [1, 2, 3]\n",
    "y = [1, 2, 3]\n",
    "z = x\n",
    "print(x is y) # False (different objects in memory)\n",
    "print(x is z) # True (z is the same object as x)\n",
    "print(x is not y) # True (x and y are not the same object)\n",
    "print()\n",
    "\n",
    "#Ternary (Conditional) Operator\n",
    "age = 18\n",
    "status = \"Adult\" if age >= 18 else \"Minor\"\n",
    "print(status) # Output: Adult\n",
    "print()\n",
    "print()\n",
    "\n",
    "#Unary Operator\n",
    "n = 5\n",
    "print(-n) # Unary minus: -5\n",
    "is_alive = True\n",
    "print(not is_alive) # Logical NOT: False\n",
    "\n"
   ]
  },
  {
   "cell_type": "markdown",
   "metadata": {},
   "source": [
    "Q.5 Explain the concept of type casting in Python with examples?\n",
    "\n",
    "Type casting in Python refers to the process of converting one data type into another."
   ]
  },
  {
   "cell_type": "code",
   "execution_count": 10,
   "metadata": {},
   "outputs": [
    {
     "name": "stdout",
     "output_type": "stream",
     "text": [
      "<class 'float'>\n",
      "3.14\n",
      "<class 'int'>\n"
     ]
    }
   ],
   "source": [
    "a = 3.14\n",
    "b = int(a)\n",
    "print(type(a)) \n",
    "print(a) \n",
    "print(type(b)) "
   ]
  },
  {
   "cell_type": "markdown",
   "metadata": {},
   "source": [
    "Q.6 How do conditional statements work in Python? Illustrate with examples?\n",
    "\n",
    "Conditional statements in Python allow you to execute different blocks of code based on \n",
    "whether a condition is true or false. These conditions are usually Boolean expressions that \n",
    "evaluate to either True or False. The main types of conditional statements in Python are if, \n",
    "elif, and else."
   ]
  },
  {
   "cell_type": "code",
   "execution_count": 11,
   "metadata": {},
   "outputs": [
    {
     "name": "stdout",
     "output_type": "stream",
     "text": [
      "x is equal to 10\n"
     ]
    }
   ],
   "source": [
    "x = 10\n",
    "if x > 10:\n",
    " print(\"x is greater than 10\")\n",
    "elif x == 10:\n",
    " print(\"x is equal to 10\")\n",
    "else:\n",
    " print(\"x is less than 10\")"
   ]
  },
  {
   "cell_type": "markdown",
   "metadata": {},
   "source": [
    "Q.7 Describe the different types of loops in Python and thei$ use cases with examples.\n",
    "\n",
    "1. while Loop: A while loop is used to repeatedly execute a block of code as long as a given \n",
    "condition is True. It is particularly useful when the number of iterations is not known in \n",
    "advance and depends on some runtime condition.\n",
    "2. Nested Loops: Nested loops are loops inside other loops. They are useful for iterating over multi￾dimensional structures (e.g., lists of lists) or when performing multiple iterations at different \n",
    "levels. \n",
    "3. for Loop: A for loop is used to iterate over a sequence (e.g., list, tuple, dictionary, set, or \n",
    "string) or other iterable objects (like ranges). It is commonly used when you know in advance \n",
    "how many times you want to execute a statement or a block of statements.\n"
   ]
  },
  {
   "cell_type": "code",
   "execution_count": 15,
   "metadata": {},
   "outputs": [
    {
     "name": "stdout",
     "output_type": "stream",
     "text": [
      "apple\n",
      "banana\n",
      "cherry\n",
      "1\n",
      "2\n",
      "3\n",
      "4\n",
      "5\n",
      "1 2 3 \n",
      "4 5 6 \n",
      "7 8 9 \n"
     ]
    }
   ],
   "source": [
    "#for Loop\n",
    "fruits = [\"apple\", \"banana\", \"cherry\"]\n",
    "for fruit in fruits:\n",
    " print(fruit)\n",
    "\n",
    "#while Loop\n",
    "i = 1\n",
    "while i <= 5:\n",
    " print(i)\n",
    " i += 1\n",
    "\n",
    "#Nested Loops\n",
    "matrix = [\n",
    " [1, 2, 3],\n",
    " [4, 5, 6],\n",
    " [7, 8, 9]\n",
    "]\n",
    "\n",
    "for row in matrix:\n",
    " for item in row:\n",
    "    print(item, end=\" \")\n",
    " print()"
   ]
  }
 ],
 "metadata": {
  "kernelspec": {
   "display_name": "Python 3",
   "language": "python",
   "name": "python3"
  },
  "language_info": {
   "codemirror_mode": {
    "name": "ipython",
    "version": 3
   },
   "file_extension": ".py",
   "mimetype": "text/x-python",
   "name": "python",
   "nbconvert_exporter": "python",
   "pygments_lexer": "ipython3",
   "version": "3.11.9"
  }
 },
 "nbformat": 4,
 "nbformat_minor": 2
}
