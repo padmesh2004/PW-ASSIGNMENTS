{
 "cells": [
  {
   "cell_type": "markdown",
   "metadata": {},
   "source": [
    "Q.1Discuss string slicing and provide examples"
   ]
  },
  {
   "cell_type": "markdown",
   "metadata": {},
   "source": [
    "String slicing is a technique in Python (and other programming languages) that allows you to extract a portion (substring) of a string. It involves specifying the start and end positions (indices) of the portion you want to extract."
   ]
  },
  {
   "cell_type": "code",
   "execution_count": 3,
   "metadata": {},
   "outputs": [
    {
     "name": "stdout",
     "output_type": "stream",
     "text": [
      "Hello\n",
      " World!\n",
      "Hello\n",
      "!dlroW olleH\n"
     ]
    }
   ],
   "source": [
    "s = \"Hello World!\"\n",
    "print(s[0:5])\n",
    "print(s[5:])\n",
    "print(s[:5])\n",
    "print(s[::-1])"
   ]
  },
  {
   "cell_type": "markdown",
   "metadata": {
    "slideshow": {
     "slide_type": "subslide"
    }
   },
   "source": [
    "Q.2Explain the key features of lists in Python.\n"
   ]
  },
  {
   "cell_type": "markdown",
   "metadata": {},
   "source": [
    "Lists are one of the most versatile and commonly used data structures in Python. Common Features are\n",
    " 1. Ordered Collection\n",
    " 2. Mutable\n",
    " 3. Heterogeneous Elements\n",
    " 4. Dynamic Size\n",
    " 5. Indexing and Slicing"
   ]
  },
  {
   "cell_type": "code",
   "execution_count": 5,
   "metadata": {},
   "outputs": [
    {
     "name": "stdout",
     "output_type": "stream",
     "text": [
      "['apple', 'blueberry', 'cherry']\n",
      "['apple', 'blueberry']\n"
     ]
    }
   ],
   "source": [
    "fruits = [\"apple\", \"banana\", \"cherry\"]\n",
    "fruits[1] = \"blueberry\"\n",
    "print(fruits)\n",
    "print(fruits[:2])\n"
   ]
  },
  {
   "cell_type": "markdown",
   "metadata": {},
   "source": [
    "Q.3 Describe how to access, modify, and delete elements in a list with examples.\n"
   ]
  },
  {
   "cell_type": "code",
   "execution_count": 17,
   "metadata": {},
   "outputs": [
    {
     "name": "stdout",
     "output_type": "stream",
     "text": [
      "1\n",
      "2\n",
      "3\n",
      "4\n",
      "5\n",
      "[1, 0, 3, 4, 6]\n"
     ]
    }
   ],
   "source": [
    "#List are iterative to access elements\n",
    "my_list = [1, 2, 3, 4, 5]\n",
    "for i in my_list:\n",
    "    print(i)\n",
    "\n",
    "#List are mutuable to delete and modify elements\n",
    "my_list[1] = 0\n",
    "my_list.append(6)\n",
    "my_list.pop(4)\n",
    "print(my_list)"
   ]
  },
  {
   "cell_type": "markdown",
   "metadata": {},
   "source": [
    "Q.4 Compare and contrast tuples and lists with examples.\n",
    "\n"
   ]
  },
  {
   "cell_type": "code",
   "execution_count": 18,
   "metadata": {},
   "outputs": [
    {
     "name": "stdout",
     "output_type": "stream",
     "text": [
      "[1, 10, 4]\n",
      "1\n",
      "1\n",
      "10\n",
      "4\n",
      "1\n",
      "2\n",
      "3\n",
      "3\n",
      "3\n",
      "10 20\n"
     ]
    }
   ],
   "source": [
    "# Lists - Mutable, Use square brackets, More methods\n",
    "my_list = [1, 2, 3]\n",
    "my_list[1] = 10        # Modify\n",
    "my_list.append(4)      # Add\n",
    "my_list.remove(3)      # Remove\n",
    "print(my_list)         # Output: [1, 10, 4]\n",
    "\n",
    "# Tuples - Immutable, Use parentheses, Fewer methods\n",
    "my_tuple = (1, 2, 3)\n",
    "# my_tuple[1] = 10     # Error: Cannot modify\n",
    "print(my_tuple.index(2))  # Output: 1\n",
    "\n",
    "# Both - Support different types, Iteration, and Length\n",
    "for i in my_list:\n",
    "    print(i)           # Output: 1, 10, 4\n",
    "for i in my_tuple:\n",
    "    print(i)           # Output: 1, 2, 3\n",
    "\n",
    "print(len(my_list))    # Output: 3\n",
    "print(len(my_tuple))   # Output: 3\n",
    "\n",
    "# Tuple packing and unpacking\n",
    "point = (10, 20)\n",
    "x, y = point\n",
    "print(x, y)            # Output: 10 20\n"
   ]
  },
  {
   "cell_type": "markdown",
   "metadata": {},
   "source": [
    "Q.5 Describe the key features of sets and provide examples of their usee\n"
   ]
  },
  {
   "cell_type": "code",
   "execution_count": 19,
   "metadata": {},
   "outputs": [
    {
     "name": "stdout",
     "output_type": "stream",
     "text": [
      "{1, 2, 3}\n",
      "{1, 3, 4}\n",
      "{1, 2, 3, 4, 5}\n",
      "{3}\n",
      "{1, 2}\n",
      "{1, 2, 4, 5}\n"
     ]
    }
   ],
   "source": [
    "# Sets - Unordered, Unique elements, Mutable, No indexing\n",
    "\n",
    "# Creating a set\n",
    "my_set = {1, 2, 3, 2}\n",
    "print(my_set)  # Output: {1, 2, 3} (duplicates removed)\n",
    "\n",
    "# Adding and removing elements\n",
    "my_set.add(4)        # Add element\n",
    "my_set.remove(2)     # Remove element\n",
    "print(my_set)        # Output: {1, 3, 4}\n",
    "\n",
    "# Set operations\n",
    "set1 = {1, 2, 3}\n",
    "set2 = {3, 4, 5}\n",
    "\n",
    "union = set1 | set2          # Union\n",
    "intersection = set1 & set2   # Intersection\n",
    "difference = set1 - set2     # Difference\n",
    "sym_diff = set1 ^ set2       # Symmetric Difference\n",
    "\n",
    "print(union)                 # Output: {1, 2, 3, 4, 5}\n",
    "print(intersection)          # Output: {3}\n",
    "print(difference)            # Output: {1, 2}\n",
    "print(sym_diff)              # Output: {1, 2, 4, 5}\n"
   ]
  },
  {
   "cell_type": "markdown",
   "metadata": {},
   "source": [
    "Q.6 Discuss the use cases of tuples and sets in Python programming.\n"
   ]
  },
  {
   "cell_type": "code",
   "execution_count": 23,
   "metadata": {},
   "outputs": [
    {
     "name": "stdout",
     "output_type": "stream",
     "text": [
      "John\n",
      "2 is in the set\n",
      "{3}\n"
     ]
    }
   ],
   "source": [
    "# Tuples - Use Cases\n",
    "# 1. Immutable Data: Store fixed data like coordinates or configuration settings\n",
    "coordinates = (10.5, 42.3)\n",
    "\n",
    "# 2. Return Multiple Values: Functions can return multiple values as a tuple\n",
    "def get_user():\n",
    "    return (\"John\", 25)\n",
    "name, age = get_user()\n",
    "print(name)\n",
    "\n",
    "# 3. Dictionary Keys: Tuples can be used as keys in dictionaries\n",
    "my_dict = {(1, 2): \"point\", (3, 4): \"another point\"}\n",
    "\n",
    "# Sets - Use Cases\n",
    "# 1. Unique Collection: Store a collection of unique elements\n",
    "unique_items = {1, 2, 3, 3, 4}  # Output: {1, 2, 3, 4}\n",
    "\n",
    "# 2. Membership Testing: Check if an item is in a set\n",
    "if 2 in unique_items:\n",
    "    print(\"2 is in the set\")\n",
    "\n",
    "# 3. Set Operations: Perform mathematical operations like union, intersection\n",
    "set1 = {1, 2, 3}\n",
    "set2 = {3, 4, 5}\n",
    "common_elements = set1 & set2  # Intersection: {3}\n",
    "print(common_elements)\n"
   ]
  },
  {
   "cell_type": "markdown",
   "metadata": {},
   "source": [
    "Q.7 Describe how to add and modifyy and delete items in a dictionary with examples\n"
   ]
  },
  {
   "cell_type": "code",
   "execution_count": 24,
   "metadata": {},
   "outputs": [
    {
     "name": "stdout",
     "output_type": "stream",
     "text": [
      "{'name': 'Alice', 'age': 25, 'city': 'New York'}\n",
      "{'name': 'Alice', 'age': 30, 'city': 'New York'}\n",
      "{'name': 'Alice', 'age': 30}\n",
      "30\n",
      "{'name': 'Alice'}\n"
     ]
    }
   ],
   "source": [
    "# Dictionary - Adding, Modifying, and Deleting Items\n",
    "\n",
    "# Adding an item\n",
    "my_dict = {\"name\": \"Alice\", \"age\": 25}\n",
    "my_dict[\"city\"] = \"New York\"  # Add a new key-value pair\n",
    "print(my_dict)  # Output: {'name': 'Alice', 'age': 25, 'city': 'New York'}\n",
    "\n",
    "# Modifying an item\n",
    "my_dict[\"age\"] = 30  # Modify the value of an existing key\n",
    "print(my_dict)  # Output: {'name': 'Alice', 'age': 30, 'city': 'New York'}\n",
    "\n",
    "# Deleting an item\n",
    "del my_dict[\"city\"]  # Remove the key-value pair with key 'city'\n",
    "print(my_dict)  # Output: {'name': 'Alice', 'age': 30}\n",
    "\n",
    "# Using pop() method to delete and return an item\n",
    "age = my_dict.pop(\"age\")  # Removes 'age' and returns its value\n",
    "print(age)      # Output: 30\n",
    "print(my_dict)  # Output: {'name': 'Alice'}\n"
   ]
  },
  {
   "cell_type": "markdown",
   "metadata": {},
   "source": [
    "Q.8 Discuss the importance of dictionary keys being immutable and provide examples"
   ]
  },
  {
   "cell_type": "code",
   "execution_count": 25,
   "metadata": {},
   "outputs": [
    {
     "name": "stdout",
     "output_type": "stream",
     "text": [
      "point A\n"
     ]
    }
   ],
   "source": [
    "# Importance of Immutable Dictionary Keys\n",
    "\n",
    "# Dictionary keys must be immutable (e.g., strings, numbers, tuples)\n",
    "# Immutable keys ensure data integrity and allow for efficient lookups\n",
    "\n",
    "# Valid keys: Strings, numbers, tuples\n",
    "valid_dict = {\"name\": \"Alice\", 42: \"age\", (1, 2): \"coordinates\"}\n",
    "\n",
    "# Invalid keys: Lists (mutable) will raise an error\n",
    "# invalid_dict = {[1, 2]: \"list as key\"}  # This will raise a TypeError\n",
    "\n",
    "# Example of using a tuple as a key (tuple is immutable)\n",
    "my_dict = {(1, 2): \"point A\", (3, 4): \"point B\"}\n",
    "print(my_dict[(1, 2)])  # Output: \"point A\"\n"
   ]
  }
 ],
 "metadata": {
  "kernelspec": {
   "display_name": "Python 3",
   "language": "python",
   "name": "python3"
  },
  "language_info": {
   "codemirror_mode": {
    "name": "ipython",
    "version": 3
   },
   "file_extension": ".py",
   "mimetype": "text/x-python",
   "name": "python",
   "nbconvert_exporter": "python",
   "pygments_lexer": "ipython3",
   "version": "3.11.9"
  }
 },
 "nbformat": 4,
 "nbformat_minor": 2
}
