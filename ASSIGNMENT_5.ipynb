{
 "cells": [
  {
   "cell_type": "markdown",
   "metadata": {},
   "source": [
    "#1. What are the five key concepts of Object-Oriented Programming (OOP)?\n",
    "\n",
    "Key Concepts of Object-Oriented Programming (OOP)\n",
    "The five key concepts of OOP are:\n",
    "\n",
    "Encapsulation: Bundling data (attributes) and methods (functions) that operate on that data within a single unit or class. This also involves restricting access to certain components to protect the integrity of the object.\n",
    "\n",
    "Abstraction: Hiding complex implementation details and exposing only the necessary features of an object. This helps in reducing complexity and increasing efficiency.\n",
    "\n",
    "Inheritance: A mechanism where a new class (subclass or derived class) inherits attributes and methods from an existing class (base class or parent class). This promotes code reusability.\n",
    "\n",
    "Polymorphism: The ability of different classes to be treated as instances of the same class through a common interface. It allows methods to do different things based on the object it is acting upon.\n",
    "\n",
    "Classes and Objects: A class is a blueprint for creating objects. Objects are instances of classes that contain data and can perform actions defined by the class.\n",
    "\n"
   ]
  },
  {
   "cell_type": "code",
   "execution_count": 1,
   "metadata": {},
   "outputs": [
    {
     "name": "stdout",
     "output_type": "stream",
     "text": [
      "Car Make: Toyota, Model: Camry, Year: 2020\n"
     ]
    }
   ],
   "source": [
    "#2. Write a Python class for a Car with attributes for make, model, and year. Include a method to display\n",
    "class Car:\n",
    "    def __init__(self, make, model, year):\n",
    "        self.make = make\n",
    "        self.model = model\n",
    "        self.year = year\n",
    "\n",
    "    def display_info(self):\n",
    "        print(f\"Car Make: {self.make}, Model: {self.model}, Year: {self.year}\")\n",
    "\n",
    "# Example usage\n",
    "my_car = Car(\"Toyota\", \"Camry\", 2020)\n",
    "my_car.display_info()\n"
   ]
  },
  {
   "cell_type": "code",
   "execution_count": 2,
   "metadata": {},
   "outputs": [
    {
     "name": "stdout",
     "output_type": "stream",
     "text": [
      "This is a class method\n",
      "This is an instance method\n"
     ]
    }
   ],
   "source": [
    "#3. Explain the difference between instance methods and class methods. Provide an example of each.\n",
    "\n",
    "#Instance Methods: These methods operate on an instance of the class and can access instance attributes. They take self as the first parameter.\n",
    "#Class Methods: These methods operate on the class itself and take cls as the first parameter. They are defined using the @classmethod decorator.\n",
    "class Example:\n",
    "    @classmethod\n",
    "    def class_method(cls):\n",
    "        return \"This is a class method\"\n",
    "\n",
    "print(Example.class_method())  # Output: This is a class method\n",
    "\n",
    "class Example:\n",
    "    def instance_method(self):\n",
    "        return \"This is an instance method\"\n",
    "\n",
    "obj = Example()\n",
    "print(obj.instance_method())  # Output: This is an instance method\n"
   ]
  },
  {
   "cell_type": "code",
   "execution_count": 3,
   "metadata": {},
   "outputs": [
    {
     "name": "stdout",
     "output_type": "stream",
     "text": [
      "5\n",
      "15\n"
     ]
    }
   ],
   "source": [
    "#4. How does Python implement method overloading? Give an example.\n",
    "class MathOperations:\n",
    "    def add(self, a, b=0):\n",
    "        return a + b\n",
    "\n",
    "# Example usage\n",
    "math_ops = MathOperations()\n",
    "print(math_ops.add(5))       # Output: 5\n",
    "print(math_ops.add(5, 10))   # Output: 15\n"
   ]
  },
  {
   "cell_type": "code",
   "execution_count": 4,
   "metadata": {},
   "outputs": [
    {
     "name": "stdout",
     "output_type": "stream",
     "text": [
      "1\n",
      "2\n"
     ]
    }
   ],
   "source": [
    "#5. What are the three types of access modifiers in Python? How are they denoted?\n",
    "#Python has three types of access modifiers:\n",
    "\n",
    "#Public: Attributes and methods are accessible from outside the class. Denoted by no special prefix.\n",
    "\n",
    "#Protected: Attributes and methods are intended to be accessible only within the class and its subclasses. Denoted by a single underscore prefix (_).\n",
    "\n",
    "#Private: Attributes and methods are accessible only within the class. Denoted by a double underscore prefix (__).\n",
    "class Example:\n",
    "    def __init__(self):\n",
    "        self.public_attr = 1          # Public\n",
    "        self._protected_attr = 2      # Protected\n",
    "        self.__private_attr = 3       # Private\n",
    "\n",
    "obj = Example()\n",
    "print(obj.public_attr)         # Accessible\n",
    "print(obj._protected_attr)     # Accessible (but should be treated as protected)\n",
    "# print(obj.__private_attr)    # Raises AttributeError\n"
   ]
  },
  {
   "cell_type": "code",
   "execution_count": 5,
   "metadata": {},
   "outputs": [],
   "source": [
    "#6. Describe the five types of inheritance in Python. Provide a simple example of multiple inheritance.\n",
    "#Single Inheritence\n",
    "class Parent:\n",
    "    pass\n",
    "\n",
    "class Child(Parent):\n",
    "    pass\n",
    "\n",
    "#Multiple Inheritance\n",
    "class Parent1:\n",
    "    pass\n",
    "\n",
    "class Parent2:\n",
    "    pass\n",
    "\n",
    "class Child(Parent1, Parent2):\n",
    "    pass\n",
    "\n",
    "#Multilevel Inheritance\n",
    "class Grandparent:\n",
    "    pass\n",
    "\n",
    "class Parent(Grandparent):\n",
    "    pass\n",
    "\n",
    "class Child(Parent):\n",
    "    pass\n",
    "\n",
    "#Hierarchical Inheritance\n",
    "class Parent:\n",
    "    pass\n",
    "\n",
    "class Child1(Parent):\n",
    "    pass\n",
    "\n",
    "class Child2(Parent):\n",
    "    pass\n",
    "\n",
    "#Hybrid Inheritance\n",
    "class Parent:\n",
    "    pass\n",
    "\n",
    "class Child1(Parent):\n",
    "    pass\n",
    "\n",
    "class Child2(Parent):\n",
    "    pass\n",
    "\n",
    "class Grandchild(Child1, Child2):\n",
    "    pass\n"
   ]
  },
  {
   "cell_type": "code",
   "execution_count": 6,
   "metadata": {},
   "outputs": [
    {
     "name": "stdout",
     "output_type": "stream",
     "text": [
      "(<class '__main__.D'>, <class '__main__.B'>, <class '__main__.C'>, <class '__main__.A'>, <class 'object'>)\n",
      "[<class '__main__.D'>, <class '__main__.B'>, <class '__main__.C'>, <class '__main__.A'>, <class 'object'>]\n"
     ]
    }
   ],
   "source": [
    "#7. What is the Method Resolution Order (MRO) in Python? How can you retrieve it programmatically?\n",
    "class A:\n",
    "    pass\n",
    "\n",
    "class B(A):\n",
    "    pass\n",
    "\n",
    "class C(A):\n",
    "    pass\n",
    "\n",
    "class D(B, C):\n",
    "    pass\n",
    "\n",
    "print(D.__mro__)  # Output: (<class '__main__.D'>, <class '__main__.B'>, <class '__main__.C'>, <class '__main__.A'>, <class 'object'>)\n",
    "print(D.mro())    # Output: [<class '__main__.D'>, <class '__main__.B'>, <class '__main__.C'>, <class '__main__.A'>, <class 'object'>]\n"
   ]
  },
  {
   "cell_type": "code",
   "execution_count": 7,
   "metadata": {},
   "outputs": [
    {
     "name": "stdout",
     "output_type": "stream",
     "text": [
      "Circle Area: 78.53981633974483\n",
      "Rectangle Area: 24\n"
     ]
    }
   ],
   "source": [
    "#8. Create an abstract base class Shape with an abstract method area(). Then create two subclasses Circle and Rectangle that implement the area() method.\n",
    "from abc import ABC, abstractmethod\n",
    "import math\n",
    "\n",
    "class Shape(ABC):\n",
    "    @abstractmethod\n",
    "    def area(self):\n",
    "        pass\n",
    "\n",
    "class Circle(Shape):\n",
    "    def __init__(self, radius):\n",
    "        self.radius = radius\n",
    "\n",
    "    def area(self):\n",
    "        return math.pi * (self.radius ** 2)\n",
    "\n",
    "class Rectangle(Shape):\n",
    "    def __init__(self, width, height):\n",
    "        self.width = width\n",
    "        self.height = height\n",
    "\n",
    "    def area(self):\n",
    "        return self.width * self.height\n",
    "\n",
    "# Example usage\n",
    "circle = Circle(5)\n",
    "print(f\"Circle Area: {circle.area()}\")  # Output: Circle Area: 78.53981633974483\n",
    "\n",
    "rectangle = Rectangle(4, 6)\n",
    "print(f\"Rectangle Area: {rectangle.area()}\")  # Output: Rectangle Area: 24\n"
   ]
  },
  {
   "cell_type": "code",
   "execution_count": 8,
   "metadata": {},
   "outputs": [
    {
     "name": "stdout",
     "output_type": "stream",
     "text": [
      "Area: 78.53981633974483\n",
      "Area: 24\n"
     ]
    }
   ],
   "source": [
    "#9. Demonstrate polymorphism by creating a function that can work with different shape objects to calculate and print their areas.\n",
    "def calculate_area(shape):\n",
    "    print(f\"Area: {shape.area()}\")\n",
    "\n",
    "# Example usage\n",
    "shapes = [Circle(5), Rectangle(4, 6)]\n",
    "for shape in shapes:\n",
    "    calculate_area(shape)\n"
   ]
  },
  {
   "cell_type": "code",
   "execution_count": 9,
   "metadata": {},
   "outputs": [
    {
     "name": "stdout",
     "output_type": "stream",
     "text": [
      "Deposited: 1000, New Balance: 1000\n",
      "Withdrew: 500, New Balance: 500\n",
      "Final Balance: 500\n"
     ]
    }
   ],
   "source": [
    "#10. Implement encapsulation in a BankAccount class with private attributes for balance and account_number. Include methods for deposit, withdrawal, and balance inquiry.\n",
    "class BankAccount:\n",
    "    def __init__(self, account_number, balance=0):\n",
    "        self.__account_number = account_number\n",
    "        self.__balance = balance\n",
    "\n",
    "    def deposit(self, amount):\n",
    "        if amount > 0:\n",
    "            self.__balance += amount\n",
    "            print(f\"Deposited: {amount}, New Balance: {self.__balance}\")\n",
    "        else:\n",
    "            print(\"Invalid deposit amount.\")\n",
    "\n",
    "    def withdraw(self, amount):\n",
    "        if 0 < amount <= self.__balance:\n",
    "            self.__balance -= amount\n",
    "            print(f\"Withdrew: {amount}, New Balance: {self.__balance}\")\n",
    "        else:\n",
    "            print(\"Invalid withdrawal amount or insufficient balance.\")\n",
    "\n",
    "    def get_balance(self):\n",
    "        return self.__balance\n",
    "\n",
    "# Example usage\n",
    "account = BankAccount(\"123456789\")\n",
    "account.deposit(1000)\n",
    "account.withdraw(500)\n",
    "print(f\"Final Balance: {account.get_balance()}\")\n"
   ]
  },
  {
   "cell_type": "code",
   "execution_count": 10,
   "metadata": {},
   "outputs": [
    {
     "name": "stdout",
     "output_type": "stream",
     "text": [
      "CustomNumber: 10\n",
      "CustomNumber: 30\n"
     ]
    }
   ],
   "source": [
    "#11. Write a class that overrides the __str__ and __add__ magic methods. What will these methods allow you to do?\n",
    "class CustomNumber:\n",
    "    def __init__(self, value):\n",
    "        self.value = value\n",
    "\n",
    "    def __str__(self):\n",
    "        return f\"CustomNumber: {self.value}\"\n",
    "\n",
    "    def __add__(self, other):\n",
    "        return CustomNumber(self.value + other.value)\n",
    "\n",
    "# Example usage\n",
    "num1 = CustomNumber(10)\n",
    "num2 = CustomNumber(20)\n",
    "print(num1)                # Output: CustomNumber: 10\n",
    "result = num1 + num2\n",
    "print(result)             # Output: CustomNumber: 30\n",
    "#__str__ allows you to define a string representation for the object, and __add__ allows you to define behavior for the addition operator."
   ]
  },
  {
   "cell_type": "code",
   "execution_count": 11,
   "metadata": {},
   "outputs": [
    {
     "name": "stdout",
     "output_type": "stream",
     "text": [
      "Execution time: 2.0009 seconds\n"
     ]
    }
   ],
   "source": [
    "#12. Create a decorator that measures and prints the execution time of a function.\n",
    "import time\n",
    "\n",
    "def execution_time(func):\n",
    "    def wrapper(*args, **kwargs):\n",
    "        start_time = time.time()\n",
    "        result = func(*args, **kwargs)\n",
    "        end_time = time.time()\n",
    "        print(f\"Execution time: {end_time - start_time:.4f} seconds\")\n",
    "        return result\n",
    "    return wrapper\n",
    "\n",
    "@execution_time\n",
    "def example_function():\n",
    "    time.sleep(2)  # Simulating a delay\n",
    "\n",
    "example_function()\n"
   ]
  },
  {
   "cell_type": "code",
   "execution_count": 12,
   "metadata": {},
   "outputs": [
    {
     "name": "stdout",
     "output_type": "stream",
     "text": [
      "Hello from B\n",
      "(<class '__main__.D'>, <class '__main__.B'>, <class '__main__.C'>, <class '__main__.A'>, <class 'object'>)\n"
     ]
    }
   ],
   "source": [
    "#13. Explain the concept of the Diamond Problem in multiple inheritance. How does Python \n",
    "#The Diamond Problem occurs in multiple inheritance when a class inherits from two classes that both inherit from a common base class. This can lead to ambiguity about which method or attribute to use.\n",
    "\n",
    "#Python uses the C3 linearization algorithm to resolve this ambiguity, ensuring a consistent order of method resolution.\n",
    "\n",
    "class A:\n",
    "    def greet(self):\n",
    "        print(\"Hello from A\")\n",
    "\n",
    "class B(A):\n",
    "    def greet(self):\n",
    "        print(\"Hello from B\")\n",
    "\n",
    "class C(A):\n",
    "    def greet(self):\n",
    "        print(\"Hello from C\")\n",
    "\n",
    "class D(B, C):\n",
    "    pass\n",
    "\n",
    "# Example usage\n",
    "d = D()\n",
    "d.greet()  # Output: Hello from B (B is prioritized over C)\n",
    "print(D.__mro__)  # Output: (<class '__main__.D'>, <class '__main__.B'>, <class '__main__.C'>, <class '__main__.A'>, <class 'object'>)\n"
   ]
  }
 ],
 "metadata": {
  "kernelspec": {
   "display_name": "Python 3",
   "language": "python",
   "name": "python3"
  },
  "language_info": {
   "codemirror_mode": {
    "name": "ipython",
    "version": 3
   },
   "file_extension": ".py",
   "mimetype": "text/x-python",
   "name": "python",
   "nbconvert_exporter": "python",
   "pygments_lexer": "ipython3",
   "version": "3.11.9"
  }
 },
 "nbformat": 4,
 "nbformat_minor": 2
}
