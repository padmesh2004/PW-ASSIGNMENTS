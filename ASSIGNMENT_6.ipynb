{
 "cells": [
  {
   "cell_type": "markdown",
   "metadata": {},
   "source": [
    "THEORY QUESTIONS\n"
   ]
  },
  {
   "cell_type": "markdown",
   "metadata": {},
   "source": [
    "1. Explain the purpose and advantages of NumPy in scientific computing and data analysis. How does it \n",
    "enhance Python's capabilities for numerical operations?\n",
    "\n",
    "Purpose: NumPy (Numerical Python) is a powerful library in Python that provides support for arrays, matrices, and a wide range of mathematical functions to perform operations on these data structures efficiently.\n",
    "\n",
    "Advantages:\n",
    "\n",
    "Performance: NumPy is implemented in C, allowing for efficient execution of operations. It is significantly faster than pure Python code for numerical calculations.\n",
    "Memory Efficiency: NumPy arrays use contiguous blocks of memory, which reduces overhead and increases performance, especially with large datasets.\n",
    "Convenience: It provides a wide variety of built-in mathematical functions, making it easy to perform complex calculations with less code.\n",
    "Multidimensional Arrays: NumPy allows for the creation and manipulation of n-dimensional arrays, making it suitable for a wide range of applications in data analysis, machine learning, and scientific computing.\n",
    "Interoperability: It integrates well with other libraries, such as SciPy, Pandas, and Matplotlib, enhancing Python’s capabilities for data analysis and visualization."
   ]
  },
  {
   "cell_type": "markdown",
   "metadata": {},
   "source": [
    "2. Compare and contrast np.mean() and np.average() functions in NumPy. When would you use one over the \n",
    "other?\n",
    "\n",
    "np.mean(): Computes the arithmetic mean along a specified axis. It treats all elements equally.\n",
    "np.average(): Also computes the average, but it allows for weights to be specified. This means you can give different weights to different elements, affecting the result.\n",
    "Usage:\n",
    "\n",
    "Use np.mean() when you need the standard mean of the array.\n",
    "Use np.average() when you need to account for weights in your average calculation."
   ]
  },
  {
   "cell_type": "code",
   "execution_count": 17,
   "metadata": {},
   "outputs": [
    {
     "name": "stdout",
     "output_type": "stream",
     "text": [
      "[5 4 3 2 1]\n"
     ]
    }
   ],
   "source": [
    "#3. Describe the methods for reversing a NumPy array along different axes. Provide examples for 1D and 2D arrays.\n",
    "\n",
    "arr1D = np.array([1, 2, 3, 4, 5])\n",
    "reversed_1D = arr1D[::-1]\n",
    "print(reversed_1D)  \n"
   ]
  },
  {
   "cell_type": "code",
   "execution_count": 18,
   "metadata": {},
   "outputs": [
    {
     "name": "stdout",
     "output_type": "stream",
     "text": [
      "float64\n"
     ]
    }
   ],
   "source": [
    "#4. How can you determine the data type of elements in a NumPy array? Discuss the importance of data types in memory management and performance.\n",
    "arr = np.array([1, 2, 3.5])\n",
    "print(arr.dtype)  \n",
    "\n",
    "#Importance:Memory Management: Different data types consume different amounts of memory. Choosing an appropriate data type can save memory.\n",
    "#Performance: Operations on certain data types (like integers and floats) can be faster compared to others (like objects or strings)."
   ]
  },
  {
   "cell_type": "markdown",
   "metadata": {},
   "source": [
    "5. Define ndarrays in NumPy and explain their key features. How do they differ from standard Python lists?\n",
    "\n",
    "ndarray: The core data structure in NumPy is the n-dimensional array (ndarray), which can hold multiple dimensions of data.\n",
    "\n",
    "Key Features:\n",
    "\n",
    "Homogeneous: All elements in an ndarray must be of the same data type.\n",
    "Multidimensional: Can be one-dimensional, two-dimensional (like matrices), or higher-dimensional.\n",
    "Efficient: Stores data in contiguous memory locations for performance.\n",
    "Differences from Python Lists:\n",
    "\n",
    "Type Homogeneity: Ndarrays require all elements to be of the same type, while lists can contain mixed types.\n",
    "Performance: Ndarrays provide better performance for numerical operations due to optimized storage and operations."
   ]
  },
  {
   "cell_type": "markdown",
   "metadata": {},
   "source": [
    "6. Analyze the performance benefits of NumPy arrays over Python lists for large-scale numerical operations.\n",
    "\n",
    "Speed: NumPy operations are implemented in C and optimized for performance, making them faster than Python lists for large-scale numerical computations.\n",
    "Memory Usage: NumPy arrays have lower memory overhead due to their contiguous memory allocation, allowing for better utilization of system memory.\n",
    "Vectorization: NumPy can perform operations on entire arrays without the need for explicit loops, leveraging SIMD (Single Instruction, Multiple Data) operations."
   ]
  },
  {
   "cell_type": "markdown",
   "metadata": {},
   "source": [
    "7. Compare vstack() and hstack() functions in NumPy. Provide examples demonstrating their usage and \n",
    "output.\n",
    "\n",
    "np.vstack():\n",
    "Purpose: Stacks arrays in sequence vertically (row-wise).\n",
    "Input: Takes a tuple of arrays as input, all of which should have the same number of columns.\n",
    "np.hstack():\n",
    "Purpose: Stacks arrays in sequence horizontally (column-wise).\n",
    "Input: Takes a tuple of arrays as input, all of which should have the same number of rows."
   ]
  },
  {
   "cell_type": "code",
   "execution_count": 19,
   "metadata": {},
   "outputs": [
    {
     "name": "stdout",
     "output_type": "stream",
     "text": [
      "Vertical Stack:\n",
      " [[1 2]\n",
      " [3 4]\n",
      " [5 6]]\n",
      "\n",
      "Horizontal Stack:\n",
      " [[1 2 5]\n",
      " [3 4 6]]\n"
     ]
    }
   ],
   "source": [
    "\n",
    "a = np.array([[1, 2], [3, 4]])\n",
    "b = np.array([[5, 6]])\n",
    "\n",
    "vstack_result = np.vstack((a, b))  \n",
    "print(\"Vertical Stack:\\n\", vstack_result)\n",
    "\n",
    "hstack_result = np.hstack((a, b.T))  \n",
    "print(\"\\nHorizontal Stack:\\n\", hstack_result)\n"
   ]
  },
  {
   "cell_type": "markdown",
   "metadata": {},
   "source": [
    "8. Explain the differences between fliplr() and flipud() methods in NumPy, including their effects on various \n",
    "array dimensions.\n",
    "np.fliplr():\n",
    "\n",
    "Purpose: Flips an array from left to right (horizontal flip).\n",
    "Effect: Each row of the array is reversed.\n",
    "np.flipud():\n",
    "\n",
    "Purpose: Flips an array from up to down (vertical flip).\n",
    "Effect: The order of the rows is reversed."
   ]
  },
  {
   "cell_type": "code",
   "execution_count": 20,
   "metadata": {},
   "outputs": [
    {
     "name": "stdout",
     "output_type": "stream",
     "text": [
      "Original Array:\n",
      " [[1 2 3]\n",
      " [4 5 6]\n",
      " [7 8 9]]\n",
      "\n",
      "Flipped Left to Right:\n",
      " [[3 2 1]\n",
      " [6 5 4]\n",
      " [9 8 7]]\n",
      "\n",
      "Flipped Up to Down:\n",
      " [[7 8 9]\n",
      " [4 5 6]\n",
      " [1 2 3]]\n"
     ]
    }
   ],
   "source": [
    "arr2D = np.array([[1, 2, 3],\n",
    "                  [4, 5, 6],\n",
    "                  [7, 8, 9]])\n",
    "\n",
    "print(\"Original Array:\\n\", arr2D)\n",
    "\n",
    "flipped_lr = np.fliplr(arr2D)\n",
    "print(\"\\nFlipped Left to Right:\\n\", flipped_lr)\n",
    "\n",
    "flipped_ud = np.flipud(arr2D)\n",
    "print(\"\\nFlipped Up to Down:\\n\", flipped_ud)\n"
   ]
  },
  {
   "cell_type": "markdown",
   "metadata": {},
   "source": [
    "9. Discuss the functionality of the array_split() method in NumPy. How does it handle uneven splits?\n",
    "\n",
    "np.array_split() is used to split an array into multiple sub-arrays. It can handle uneven splits by allowing some sub-arrays to contain one more element than others.\n",
    "\n",
    "Key Features:\n",
    "It takes the original array and the number of splits desired as input.\n",
    "If the number of elements in the array is not divisible by the number of splits, it distributes the remaining elements among the first few sub-arrays."
   ]
  },
  {
   "cell_type": "code",
   "execution_count": 21,
   "metadata": {},
   "outputs": [
    {
     "name": "stdout",
     "output_type": "stream",
     "text": [
      "Array Split Result:\n",
      " [array([1, 2]), array([3, 4]), array([5])]\n"
     ]
    }
   ],
   "source": [
    "arr = np.array([1, 2, 3, 4, 5])\n",
    "\n",
    "split_result = np.array_split(arr, 3)\n",
    "print(\"Array Split Result:\\n\", split_result)\n"
   ]
  },
  {
   "cell_type": "markdown",
   "metadata": {},
   "source": [
    "10. Explain the concepts of vectorization and broadcasting in NumPy. How do they contribute to efficient array \n",
    "operations?\n",
    "\n",
    "Vectorization:\n",
    "Refers to the process of converting operations that would typically require explicit loops into a form that allows NumPy to process them in bulk.\n",
    "It takes advantage of NumPy’s optimized C and Fortran libraries, enabling faster computations."
   ]
  },
  {
   "cell_type": "code",
   "execution_count": 22,
   "metadata": {},
   "outputs": [
    {
     "name": "stdout",
     "output_type": "stream",
     "text": [
      "Vectorized Addition Result: [5 7 9]\n"
     ]
    }
   ],
   "source": [
    "import numpy as np\n",
    "\n",
    "a = np.array([1, 2, 3])\n",
    "b = np.array([4, 5, 6])\n",
    "\n",
    "result = a + b\n",
    "print(\"Vectorized Addition Result:\", result)\n"
   ]
  },
  {
   "cell_type": "markdown",
   "metadata": {},
   "source": [
    "CODING QUESTIONS"
   ]
  },
  {
   "cell_type": "code",
   "execution_count": 2,
   "metadata": {},
   "outputs": [
    {
     "data": {
      "text/plain": [
       "(array([[65, 38, 68],\n",
       "        [14, 18, 89],\n",
       "        [ 2, 47, 72]]),\n",
       " array([[65, 14,  2],\n",
       "        [38, 18, 47],\n",
       "        [68, 89, 72]]))"
      ]
     },
     "execution_count": 2,
     "metadata": {},
     "output_type": "execute_result"
    }
   ],
   "source": [
    "#1. Create a 3x3 NumPy array with random integers between 1 and 100. Then, interchange its rows and columns.\n",
    "import numpy as np\n",
    "array = np.random.randint(1, 101, size=(3, 3))\n",
    "transposed_array = np.transpose(array)\n",
    "array, transposed_array\n"
   ]
  },
  {
   "cell_type": "code",
   "execution_count": 5,
   "metadata": {},
   "outputs": [
    {
     "data": {
      "text/plain": [
       "(array([6, 2, 1, 1, 8, 4, 5, 2, 9, 5]),\n",
       " array([[6, 2, 1, 1, 8],\n",
       "        [4, 5, 2, 9, 5]]),\n",
       " array([[6, 2],\n",
       "        [1, 1],\n",
       "        [8, 4],\n",
       "        [5, 2],\n",
       "        [9, 5]]))"
      ]
     },
     "execution_count": 5,
     "metadata": {},
     "output_type": "execute_result"
    }
   ],
   "source": [
    "#2. Generate a 1D NumPy array with 10 elements. Reshape it into a 2x5 array, then into a 5x2 array.\n",
    "\n",
    "array_1d = np.random.randint(1,10,10)\n",
    "array_2x5 = array_1d.reshape(2, 5)\n",
    "array_5x2 = array_1d.reshape(5, 2)\n",
    "array_1d, array_2x5, array_5x2\n"
   ]
  },
  {
   "cell_type": "code",
   "execution_count": 6,
   "metadata": {},
   "outputs": [
    {
     "name": "stdout",
     "output_type": "stream",
     "text": [
      "4x4 Array:\n",
      " [[0.52741606 0.41734909 0.59988679 0.00859935]\n",
      " [0.5012297  0.6778837  0.73559725 0.34787305]\n",
      " [0.25527107 0.5254243  0.32510828 0.18207245]\n",
      " [0.84972266 0.71793245 0.64532989 0.74836363]]\n",
      "\n",
      "6x6 Array with Zero Border:\n",
      " [[0.         0.         0.         0.         0.         0.        ]\n",
      " [0.         0.52741606 0.41734909 0.59988679 0.00859935 0.        ]\n",
      " [0.         0.5012297  0.6778837  0.73559725 0.34787305 0.        ]\n",
      " [0.         0.25527107 0.5254243  0.32510828 0.18207245 0.        ]\n",
      " [0.         0.84972266 0.71793245 0.64532989 0.74836363 0.        ]\n",
      " [0.         0.         0.         0.         0.         0.        ]]\n"
     ]
    }
   ],
   "source": [
    "#3. Create a 4x4 NumPy array with random float values. Add a border of zeros around it, resulting in a 6x6 array.\n",
    "\n",
    "array_4x4 = np.random.rand(4, 4)\n",
    "array_6x6 = np.pad(array_4x4, pad_width=1, mode='constant', constant_values=0)\n",
    "\n",
    "print(\"4x4 Array:\\n\", array_4x4)\n",
    "print(\"\\n6x6 Array with Zero Border:\\n\", array_6x6)\n"
   ]
  },
  {
   "cell_type": "code",
   "execution_count": 7,
   "metadata": {},
   "outputs": [
    {
     "name": "stdout",
     "output_type": "stream",
     "text": [
      "[10 15 20 25 30 35 40 45 50 55 60]\n"
     ]
    }
   ],
   "source": [
    "#4. Using NumPy, create an array of integers from 10 to 60 with a step of 5\n",
    "array = np.arange(10, 61, 5)\n",
    "\n",
    "print(array)\n"
   ]
  },
  {
   "cell_type": "code",
   "execution_count": 8,
   "metadata": {},
   "outputs": [
    {
     "name": "stdout",
     "output_type": "stream",
     "text": [
      "Original Array: ['python' 'numpy' 'pandas']\n",
      "Uppercase: ['PYTHON' 'NUMPY' 'PANDAS']\n",
      "Lowercase: ['python' 'numpy' 'pandas']\n",
      "Title Case: ['Python' 'Numpy' 'Pandas']\n"
     ]
    }
   ],
   "source": [
    "#5. Create a NumPy array of strings ['python', 'numpy', 'pandas']. Apply different case transformations (uppercase, lowercase, title case, etc.) to each element.\n",
    "\n",
    "array = np.array(['python', 'numpy', 'pandas'])\n",
    "upper_case = np.char.upper(array)\n",
    "lower_case = np.char.lower(array)\n",
    "title_case = np.char.title(array)\n",
    "\n",
    "print(\"Original Array:\", array)\n",
    "print(\"Uppercase:\", upper_case)\n",
    "print(\"Lowercase:\", lower_case)\n",
    "print(\"Title Case:\", title_case)\n"
   ]
  },
  {
   "cell_type": "code",
   "execution_count": 9,
   "metadata": {},
   "outputs": [
    {
     "name": "stdout",
     "output_type": "stream",
     "text": [
      "Original Array: ['hello' 'world' 'numpy' 'array']\n",
      "Array with Spaces: ['h e l l o' 'w o r l d' 'n u m p y' 'a r r a y']\n"
     ]
    }
   ],
   "source": [
    "#6. Generate a NumPy array of words. Insert a space between each character of every word in the array.\n",
    "\n",
    "words_array = np.array(['hello', 'world', 'numpy', 'array'])\n",
    "spaced_array = np.char.join(' ', words_array)\n",
    "\n",
    "print(\"Original Array:\", words_array)\n",
    "print(\"Array with Spaces:\", spaced_array)\n"
   ]
  },
  {
   "cell_type": "code",
   "execution_count": 10,
   "metadata": {},
   "outputs": [
    {
     "name": "stdout",
     "output_type": "stream",
     "text": [
      "Array 1:\n",
      " [[1 2 3]\n",
      " [4 5 6]]\n",
      "Array 2:\n",
      " [[ 7  8  9]\n",
      " [10 11 12]]\n",
      "\n",
      "Element-wise Addition:\n",
      " [[ 8 10 12]\n",
      " [14 16 18]]\n",
      "\n",
      "Element-wise Subtraction:\n",
      " [[-6 -6 -6]\n",
      " [-6 -6 -6]]\n",
      "\n",
      "Element-wise Multiplication:\n",
      " [[ 7 16 27]\n",
      " [40 55 72]]\n",
      "\n",
      "Element-wise Division:\n",
      " [[0.14285714 0.25       0.33333333]\n",
      " [0.4        0.45454545 0.5       ]]\n"
     ]
    }
   ],
   "source": [
    "#7. Create two 2D NumPy arrays and perform element-wise addition, subtraction, multiplication, and division.\n",
    "\n",
    "array1 = np.array([[1, 2, 3], [4, 5, 6]])\n",
    "array2 = np.array([[7, 8, 9], [10, 11, 12]])\n",
    "addition = array1 + array2\n",
    "subtraction = array1 - array2\n",
    "multiplication = array1 * array2\n",
    "division = array1 / array2\n",
    "\n",
    "print(\"Array 1:\\n\", array1)\n",
    "print(\"Array 2:\\n\", array2)\n",
    "print(\"\\nElement-wise Addition:\\n\", addition)\n",
    "print(\"\\nElement-wise Subtraction:\\n\", subtraction)\n",
    "print(\"\\nElement-wise Multiplication:\\n\", multiplication)\n",
    "print(\"\\nElement-wise Division:\\n\", division)\n"
   ]
  },
  {
   "cell_type": "code",
   "execution_count": 11,
   "metadata": {},
   "outputs": [
    {
     "name": "stdout",
     "output_type": "stream",
     "text": [
      "5x5 Identity Matrix:\n",
      " [[1. 0. 0. 0. 0.]\n",
      " [0. 1. 0. 0. 0.]\n",
      " [0. 0. 1. 0. 0.]\n",
      " [0. 0. 0. 1. 0.]\n",
      " [0. 0. 0. 0. 1.]]\n",
      "\n",
      "Diagonal Elements: [1. 1. 1. 1. 1.]\n"
     ]
    }
   ],
   "source": [
    "#8. Use NumPy to create a 5x5 identity matrix, then extract its diagonal elements.\n",
    "\n",
    "identity_matrix = np.eye(5)\n",
    "diagonal_elements = np.diag(identity_matrix)\n",
    "\n",
    "print(\"5x5 Identity Matrix:\\n\", identity_matrix)\n",
    "print(\"\\nDiagonal Elements:\", diagonal_elements)\n"
   ]
  },
  {
   "cell_type": "code",
   "execution_count": 12,
   "metadata": {},
   "outputs": [
    {
     "name": "stdout",
     "output_type": "stream",
     "text": [
      "Random Integers Array: [878 853 816 876  31 687 775 523 134 759 257 967  45 884 856 167  34 273\n",
      "  88 616 987  51 199 494 208 774 696   6 891 753  39  65 232 832 532 117\n",
      "  85 531 719 587  49 902 652  29 609  57 366 491 392 858 592 328 911 509\n",
      " 623 241 559 357 542 591 829 311 280 545 626 523 531 346 457 474  34 468\n",
      " 267 361 720 917 386 207 672 175 179 714 105 337 432 551 157 661 960 994\n",
      " 991 424 320 397 927 701 838 655 798 425]\n",
      "\n",
      "Prime Numbers in the Array: [853, 31, 523, 257, 967, 167, 199, 719, 587, 29, 491, 911, 509, 241, 829, 311, 523, 457, 179, 337, 157, 661, 991, 397, 701]\n"
     ]
    }
   ],
   "source": [
    "#9. Generate a NumPy array of 100 random integers between 0 and 1000. Find and display all prime numbers in this array.\n",
    "\n",
    "random_integers = np.random.randint(0, 1001, size=100)\n",
    "\n",
    "def is_prime(n):\n",
    "    if n <= 1:\n",
    "        return False\n",
    "    for i in range(2, int(n**0.5) + 1):\n",
    "        if n % i == 0:\n",
    "            return False\n",
    "    return True\n",
    "prime_numbers = [num for num in random_integers if is_prime(num)]\n",
    "print(\"Random Integers Array:\", random_integers)\n",
    "print(\"\\nPrime Numbers in the Array:\", prime_numbers)\n"
   ]
  },
  {
   "cell_type": "code",
   "execution_count": 16,
   "metadata": {},
   "outputs": [
    {
     "name": "stdout",
     "output_type": "stream",
     "text": [
      "Daily Temperatures for the Month: [18 15 17 29 17 23 30 24 27 19 17 24 30 19 22 18 20 22 15 17 18 20 23 17\n",
      " 28 29 25 27]\n",
      "\n",
      "Weekly Averages: [21.28571429 22.85714286 18.85714286 24.14285714]\n"
     ]
    }
   ],
   "source": [
    "#10. Create a NumPy array representing daily temperatures for a month. Calculate and display the weekly averages.\n",
    "\n",
    "daily_temperatures = np.random.randint(15, 31, size=28)\n",
    "\n",
    "weekly_temperatures = daily_temperatures.reshape(4, 7)\n",
    "weekly_averages = np.mean(weekly_temperatures, axis=1)\n",
    "\n",
    "print(\"Daily Temperatures for the Month:\", daily_temperatures)\n",
    "print(\"\\nWeekly Averages:\", weekly_averages)\n"
   ]
  },
  {
   "cell_type": "code",
   "execution_count": null,
   "metadata": {},
   "outputs": [],
   "source": []
  }
 ],
 "metadata": {
  "kernelspec": {
   "display_name": "Python 3",
   "language": "python",
   "name": "python3"
  },
  "language_info": {
   "codemirror_mode": {
    "name": "ipython",
    "version": 3
   },
   "file_extension": ".py",
   "mimetype": "text/x-python",
   "name": "python",
   "nbconvert_exporter": "python",
   "pygments_lexer": "ipython3",
   "version": "3.11.9"
  }
 },
 "nbformat": 4,
 "nbformat_minor": 2
}
